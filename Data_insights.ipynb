{
 "cells": [
  {
   "cell_type": "code",
<<<<<<< HEAD
   "execution_count": 354,
=======
   "execution_count": 274,
>>>>>>> main
   "id": "06a06d4d",
   "metadata": {},
   "outputs": [],
   "source": [
    "import pandas as pd"
   ]
  },
  {
   "cell_type": "code",
<<<<<<< HEAD
   "execution_count": 355,
   "id": "d208fdb6",
   "metadata": {
    "scrolled": true
   },
=======
   "execution_count": 275,
   "id": "d208fdb6",
   "metadata": {},
   "outputs": [],
   "source": [
    "books = pd.read_csv('books.csv', index_col='id')\n",
    "# Let's drop columns we will not need \n",
    "books = books[['book_id', 'authors', 'isbn13', 'authors', 'original_publication_year', 'original_title', 'title']]"
   ]
  },
  {
   "cell_type": "code",
   "execution_count": 276,
   "id": "cc1382b8",
   "metadata": {},
>>>>>>> main
   "outputs": [
    {
     "data": {
      "text/html": [
       "<div>\n",
       "<style scoped>\n",
       "    .dataframe tbody tr th:only-of-type {\n",
       "        vertical-align: middle;\n",
       "    }\n",
       "\n",
       "    .dataframe tbody tr th {\n",
       "        vertical-align: top;\n",
       "    }\n",
       "\n",
       "    .dataframe thead th {\n",
       "        text-align: right;\n",
       "    }\n",
       "</style>\n",
       "<table border=\"1\" class=\"dataframe\">\n",
       "  <thead>\n",
       "    <tr style=\"text-align: right;\">\n",
       "      <th></th>\n",
<<<<<<< HEAD
       "      <th>location</th>\n",
       "      <th>user_id</th>\n",
       "      <th>age</th>\n",
       "      <th>isbn</th>\n",
       "      <th>rating</th>\n",
       "      <th>book_title</th>\n",
       "      <th>book_author</th>\n",
       "      <th>year_of_publication</th>\n",
       "      <th>publisher</th>\n",
       "      <th>img_m</th>\n",
       "      <th>Summary</th>\n",
       "      <th>Category</th>\n",
=======
       "      <th>book_id</th>\n",
       "      <th>user_id</th>\n",
       "      <th>rating</th>\n",
       "      <th>title</th>\n",
       "      <th>original_publication_year</th>\n",
       "      <th>authors</th>\n",
>>>>>>> main
       "    </tr>\n",
       "  </thead>\n",
       "  <tbody>\n",
       "    <tr>\n",
       "      <th>0</th>\n",
<<<<<<< HEAD
       "      <td>stockton, california, usa</td>\n",
       "      <td>2</td>\n",
       "      <td>18.0000</td>\n",
       "      <td>0195153448</td>\n",
       "      <td>0</td>\n",
       "      <td>Classical Mythology</td>\n",
       "      <td>Mark P. O. Morford</td>\n",
       "      <td>2002.0</td>\n",
       "      <td>Oxford University Press</td>\n",
       "      <td>http://images.amazon.com/images/P/0195153448.0...</td>\n",
       "      <td>Provides an introduction to classical myths pl...</td>\n",
       "      <td>['Social Science']</td>\n",
       "    </tr>\n",
       "    <tr>\n",
       "      <th>1</th>\n",
       "      <td>timmins, ontario, canada</td>\n",
       "      <td>8</td>\n",
       "      <td>34.7439</td>\n",
       "      <td>0002005018</td>\n",
       "      <td>5</td>\n",
       "      <td>Clara Callan</td>\n",
       "      <td>Richard Bruce Wright</td>\n",
       "      <td>2001.0</td>\n",
       "      <td>HarperFlamingo Canada</td>\n",
       "      <td>http://images.amazon.com/images/P/0002005018.0...</td>\n",
       "      <td>In a small town in Canada, Clara Callan reluct...</td>\n",
       "      <td>['Actresses']</td>\n",
       "    </tr>\n",
       "    <tr>\n",
       "      <th>2</th>\n",
       "      <td>ottawa, ontario, canada</td>\n",
       "      <td>11400</td>\n",
       "      <td>49.0000</td>\n",
       "      <td>0002005018</td>\n",
       "      <td>0</td>\n",
       "      <td>Clara Callan</td>\n",
       "      <td>Richard Bruce Wright</td>\n",
       "      <td>2001.0</td>\n",
       "      <td>HarperFlamingo Canada</td>\n",
       "      <td>http://images.amazon.com/images/P/0002005018.0...</td>\n",
       "      <td>In a small town in Canada, Clara Callan reluct...</td>\n",
       "      <td>['Actresses']</td>\n",
       "    </tr>\n",
       "    <tr>\n",
       "      <th>3</th>\n",
       "      <td>n/a, n/a, n/a</td>\n",
       "      <td>11676</td>\n",
       "      <td>34.7439</td>\n",
       "      <td>0002005018</td>\n",
       "      <td>8</td>\n",
       "      <td>Clara Callan</td>\n",
       "      <td>Richard Bruce Wright</td>\n",
       "      <td>2001.0</td>\n",
       "      <td>HarperFlamingo Canada</td>\n",
       "      <td>http://images.amazon.com/images/P/0002005018.0...</td>\n",
       "      <td>In a small town in Canada, Clara Callan reluct...</td>\n",
       "      <td>['Actresses']</td>\n",
       "    </tr>\n",
       "    <tr>\n",
       "      <th>4</th>\n",
       "      <td>sudbury, ontario, canada</td>\n",
       "      <td>41385</td>\n",
       "      <td>34.7439</td>\n",
       "      <td>0002005018</td>\n",
       "      <td>0</td>\n",
       "      <td>Clara Callan</td>\n",
       "      <td>Richard Bruce Wright</td>\n",
       "      <td>2001.0</td>\n",
       "      <td>HarperFlamingo Canada</td>\n",
       "      <td>http://images.amazon.com/images/P/0002005018.0...</td>\n",
       "      <td>In a small town in Canada, Clara Callan reluct...</td>\n",
       "      <td>['Actresses']</td>\n",
=======
       "      <td>1</td>\n",
       "      <td>314</td>\n",
       "      <td>5</td>\n",
       "      <td>Harry Potter and the Half-Blood Prince (Harry ...</td>\n",
       "      <td>2005.0</td>\n",
       "      <td>J.K. Rowling, Mary GrandPré</td>\n",
       "    </tr>\n",
       "    <tr>\n",
       "      <th>1</th>\n",
       "      <td>1</td>\n",
       "      <td>439</td>\n",
       "      <td>3</td>\n",
       "      <td>Harry Potter and the Half-Blood Prince (Harry ...</td>\n",
       "      <td>2005.0</td>\n",
       "      <td>J.K. Rowling, Mary GrandPré</td>\n",
       "    </tr>\n",
       "    <tr>\n",
       "      <th>2</th>\n",
       "      <td>1</td>\n",
       "      <td>588</td>\n",
       "      <td>5</td>\n",
       "      <td>Harry Potter and the Half-Blood Prince (Harry ...</td>\n",
       "      <td>2005.0</td>\n",
       "      <td>J.K. Rowling, Mary GrandPré</td>\n",
       "    </tr>\n",
       "    <tr>\n",
       "      <th>3</th>\n",
       "      <td>1</td>\n",
       "      <td>1169</td>\n",
       "      <td>4</td>\n",
       "      <td>Harry Potter and the Half-Blood Prince (Harry ...</td>\n",
       "      <td>2005.0</td>\n",
       "      <td>J.K. Rowling, Mary GrandPré</td>\n",
       "    </tr>\n",
       "    <tr>\n",
       "      <th>4</th>\n",
       "      <td>1</td>\n",
       "      <td>1185</td>\n",
       "      <td>4</td>\n",
       "      <td>Harry Potter and the Half-Blood Prince (Harry ...</td>\n",
       "      <td>2005.0</td>\n",
       "      <td>J.K. Rowling, Mary GrandPré</td>\n",
>>>>>>> main
       "    </tr>\n",
       "    <tr>\n",
       "      <th>...</th>\n",
       "      <td>...</td>\n",
       "      <td>...</td>\n",
       "      <td>...</td>\n",
       "      <td>...</td>\n",
       "      <td>...</td>\n",
       "      <td>...</td>\n",
<<<<<<< HEAD
       "      <td>...</td>\n",
       "      <td>...</td>\n",
       "      <td>...</td>\n",
       "      <td>...</td>\n",
       "      <td>...</td>\n",
       "      <td>...</td>\n",
       "    </tr>\n",
       "    <tr>\n",
       "      <th>1031170</th>\n",
       "      <td>dallas, texas, usa</td>\n",
       "      <td>278851</td>\n",
       "      <td>33.0000</td>\n",
       "      <td>0743203763</td>\n",
       "      <td>0</td>\n",
       "      <td>As Hogan Said . . . : The 389 Best Things Anyo...</td>\n",
       "      <td>Randy Voorhees</td>\n",
       "      <td>2000.0</td>\n",
       "      <td>Simon &amp; Schuster</td>\n",
       "      <td>http://images.amazon.com/images/P/0743203763.0...</td>\n",
       "      <td>Golf lovers will revel in this collection of t...</td>\n",
       "      <td>['Humor']</td>\n",
       "    </tr>\n",
       "    <tr>\n",
       "      <th>1031171</th>\n",
       "      <td>dallas, texas, usa</td>\n",
       "      <td>278851</td>\n",
       "      <td>33.0000</td>\n",
       "      <td>0767907566</td>\n",
       "      <td>5</td>\n",
       "      <td>All Elevations Unknown: An Adventure in the He...</td>\n",
       "      <td>Sam Lightner</td>\n",
       "      <td>2001.0</td>\n",
       "      <td>Broadway Books</td>\n",
       "      <td>http://images.amazon.com/images/P/0767907566.0...</td>\n",
       "      <td>A daring twist on the travel-adventure genre t...</td>\n",
       "      <td>['Nature']</td>\n",
       "    </tr>\n",
       "    <tr>\n",
       "      <th>1031172</th>\n",
       "      <td>dallas, texas, usa</td>\n",
       "      <td>278851</td>\n",
       "      <td>33.0000</td>\n",
       "      <td>0884159221</td>\n",
       "      <td>7</td>\n",
       "      <td>Why stop?: A guide to Texas historical roadsid...</td>\n",
       "      <td>Claude Dooley</td>\n",
       "      <td>1985.0</td>\n",
       "      <td>Lone Star Books</td>\n",
       "      <td>http://images.amazon.com/images/P/0884159221.0...</td>\n",
       "      <td>9</td>\n",
       "      <td>9</td>\n",
       "    </tr>\n",
       "    <tr>\n",
       "      <th>1031173</th>\n",
       "      <td>dallas, texas, usa</td>\n",
       "      <td>278851</td>\n",
       "      <td>33.0000</td>\n",
       "      <td>0912333022</td>\n",
       "      <td>7</td>\n",
       "      <td>The Are You Being Served? Stories: 'Camping In...</td>\n",
       "      <td>Jeremy Lloyd</td>\n",
       "      <td>1997.0</td>\n",
       "      <td>Kqed Books</td>\n",
       "      <td>http://images.amazon.com/images/P/0912333022.0...</td>\n",
       "      <td>These hilarious stories by the creator of publ...</td>\n",
       "      <td>['Fiction']</td>\n",
       "    </tr>\n",
       "    <tr>\n",
       "      <th>1031174</th>\n",
       "      <td>dallas, texas, usa</td>\n",
       "      <td>278851</td>\n",
       "      <td>33.0000</td>\n",
       "      <td>1569661057</td>\n",
       "      <td>10</td>\n",
       "      <td>Dallas Street Map Guide and Directory, 2000 Ed...</td>\n",
       "      <td>Mapsco</td>\n",
       "      <td>1999.0</td>\n",
       "      <td>American Map Corporation</td>\n",
       "      <td>http://images.amazon.com/images/P/1569661057.0...</td>\n",
       "      <td>9</td>\n",
       "      <td>9</td>\n",
       "    </tr>\n",
       "  </tbody>\n",
       "</table>\n",
       "<p>1031175 rows × 12 columns</p>\n",
       "</div>"
      ],
      "text/plain": [
       "                          location  user_id      age        isbn  rating  \\\n",
       "0        stockton, california, usa        2  18.0000  0195153448       0   \n",
       "1         timmins, ontario, canada        8  34.7439  0002005018       5   \n",
       "2          ottawa, ontario, canada    11400  49.0000  0002005018       0   \n",
       "3                    n/a, n/a, n/a    11676  34.7439  0002005018       8   \n",
       "4         sudbury, ontario, canada    41385  34.7439  0002005018       0   \n",
       "...                            ...      ...      ...         ...     ...   \n",
       "1031170         dallas, texas, usa   278851  33.0000  0743203763       0   \n",
       "1031171         dallas, texas, usa   278851  33.0000  0767907566       5   \n",
       "1031172         dallas, texas, usa   278851  33.0000  0884159221       7   \n",
       "1031173         dallas, texas, usa   278851  33.0000  0912333022       7   \n",
       "1031174         dallas, texas, usa   278851  33.0000  1569661057      10   \n",
       "\n",
       "                                                book_title  \\\n",
       "0                                      Classical Mythology   \n",
       "1                                             Clara Callan   \n",
       "2                                             Clara Callan   \n",
       "3                                             Clara Callan   \n",
       "4                                             Clara Callan   \n",
       "...                                                    ...   \n",
       "1031170  As Hogan Said . . . : The 389 Best Things Anyo...   \n",
       "1031171  All Elevations Unknown: An Adventure in the He...   \n",
       "1031172  Why stop?: A guide to Texas historical roadsid...   \n",
       "1031173  The Are You Being Served? Stories: 'Camping In...   \n",
       "1031174  Dallas Street Map Guide and Directory, 2000 Ed...   \n",
       "\n",
       "                  book_author  year_of_publication                 publisher  \\\n",
       "0          Mark P. O. Morford               2002.0   Oxford University Press   \n",
       "1        Richard Bruce Wright               2001.0     HarperFlamingo Canada   \n",
       "2        Richard Bruce Wright               2001.0     HarperFlamingo Canada   \n",
       "3        Richard Bruce Wright               2001.0     HarperFlamingo Canada   \n",
       "4        Richard Bruce Wright               2001.0     HarperFlamingo Canada   \n",
       "...                       ...                  ...                       ...   \n",
       "1031170        Randy Voorhees               2000.0          Simon & Schuster   \n",
       "1031171          Sam Lightner               2001.0            Broadway Books   \n",
       "1031172         Claude Dooley               1985.0           Lone Star Books   \n",
       "1031173          Jeremy Lloyd               1997.0                Kqed Books   \n",
       "1031174                Mapsco               1999.0  American Map Corporation   \n",
       "\n",
       "                                                     img_m  \\\n",
       "0        http://images.amazon.com/images/P/0195153448.0...   \n",
       "1        http://images.amazon.com/images/P/0002005018.0...   \n",
       "2        http://images.amazon.com/images/P/0002005018.0...   \n",
       "3        http://images.amazon.com/images/P/0002005018.0...   \n",
       "4        http://images.amazon.com/images/P/0002005018.0...   \n",
       "...                                                    ...   \n",
       "1031170  http://images.amazon.com/images/P/0743203763.0...   \n",
       "1031171  http://images.amazon.com/images/P/0767907566.0...   \n",
       "1031172  http://images.amazon.com/images/P/0884159221.0...   \n",
       "1031173  http://images.amazon.com/images/P/0912333022.0...   \n",
       "1031174  http://images.amazon.com/images/P/1569661057.0...   \n",
       "\n",
       "                                                   Summary            Category  \n",
       "0        Provides an introduction to classical myths pl...  ['Social Science']  \n",
       "1        In a small town in Canada, Clara Callan reluct...       ['Actresses']  \n",
       "2        In a small town in Canada, Clara Callan reluct...       ['Actresses']  \n",
       "3        In a small town in Canada, Clara Callan reluct...       ['Actresses']  \n",
       "4        In a small town in Canada, Clara Callan reluct...       ['Actresses']  \n",
       "...                                                    ...                 ...  \n",
       "1031170  Golf lovers will revel in this collection of t...           ['Humor']  \n",
       "1031171  A daring twist on the travel-adventure genre t...          ['Nature']  \n",
       "1031172                                                  9                   9  \n",
       "1031173  These hilarious stories by the creator of publ...         ['Fiction']  \n",
       "1031174                                                  9                   9  \n",
       "\n",
       "[1031175 rows x 12 columns]"
      ]
     },
     "execution_count": 355,
=======
       "    </tr>\n",
       "    <tr>\n",
       "      <th>79696</th>\n",
       "      <td>9998</td>\n",
       "      <td>51295</td>\n",
       "      <td>5</td>\n",
       "      <td>The Woman in the Dunes</td>\n",
       "      <td>1962.0</td>\n",
       "      <td>Kōbō Abe, E. Dale Saunders</td>\n",
       "    </tr>\n",
       "    <tr>\n",
       "      <th>79697</th>\n",
       "      <td>9998</td>\n",
       "      <td>51559</td>\n",
       "      <td>5</td>\n",
       "      <td>The Woman in the Dunes</td>\n",
       "      <td>1962.0</td>\n",
       "      <td>Kōbō Abe, E. Dale Saunders</td>\n",
       "    </tr>\n",
       "    <tr>\n",
       "      <th>79698</th>\n",
       "      <td>9998</td>\n",
       "      <td>52087</td>\n",
       "      <td>4</td>\n",
       "      <td>The Woman in the Dunes</td>\n",
       "      <td>1962.0</td>\n",
       "      <td>Kōbō Abe, E. Dale Saunders</td>\n",
       "    </tr>\n",
       "    <tr>\n",
       "      <th>79699</th>\n",
       "      <td>9998</td>\n",
       "      <td>52330</td>\n",
       "      <td>4</td>\n",
       "      <td>The Woman in the Dunes</td>\n",
       "      <td>1962.0</td>\n",
       "      <td>Kōbō Abe, E. Dale Saunders</td>\n",
       "    </tr>\n",
       "    <tr>\n",
       "      <th>79700</th>\n",
       "      <td>9998</td>\n",
       "      <td>53249</td>\n",
       "      <td>5</td>\n",
       "      <td>The Woman in the Dunes</td>\n",
       "      <td>1962.0</td>\n",
       "      <td>Kōbō Abe, E. Dale Saunders</td>\n",
       "    </tr>\n",
       "  </tbody>\n",
       "</table>\n",
       "<p>79701 rows × 6 columns</p>\n",
       "</div>"
      ],
      "text/plain": [
       "       book_id  user_id  rating  \\\n",
       "0            1      314       5   \n",
       "1            1      439       3   \n",
       "2            1      588       5   \n",
       "3            1     1169       4   \n",
       "4            1     1185       4   \n",
       "...        ...      ...     ...   \n",
       "79696     9998    51295       5   \n",
       "79697     9998    51559       5   \n",
       "79698     9998    52087       4   \n",
       "79699     9998    52330       4   \n",
       "79700     9998    53249       5   \n",
       "\n",
       "                                                   title  \\\n",
       "0      Harry Potter and the Half-Blood Prince (Harry ...   \n",
       "1      Harry Potter and the Half-Blood Prince (Harry ...   \n",
       "2      Harry Potter and the Half-Blood Prince (Harry ...   \n",
       "3      Harry Potter and the Half-Blood Prince (Harry ...   \n",
       "4      Harry Potter and the Half-Blood Prince (Harry ...   \n",
       "...                                                  ...   \n",
       "79696                             The Woman in the Dunes   \n",
       "79697                             The Woman in the Dunes   \n",
       "79698                             The Woman in the Dunes   \n",
       "79699                             The Woman in the Dunes   \n",
       "79700                             The Woman in the Dunes   \n",
       "\n",
       "       original_publication_year                      authors  \n",
       "0                         2005.0  J.K. Rowling, Mary GrandPré  \n",
       "1                         2005.0  J.K. Rowling, Mary GrandPré  \n",
       "2                         2005.0  J.K. Rowling, Mary GrandPré  \n",
       "3                         2005.0  J.K. Rowling, Mary GrandPré  \n",
       "4                         2005.0  J.K. Rowling, Mary GrandPré  \n",
       "...                          ...                          ...  \n",
       "79696                     1962.0   Kōbō Abe, E. Dale Saunders  \n",
       "79697                     1962.0   Kōbō Abe, E. Dale Saunders  \n",
       "79698                     1962.0   Kōbō Abe, E. Dale Saunders  \n",
       "79699                     1962.0   Kōbō Abe, E. Dale Saunders  \n",
       "79700                     1962.0   Kōbō Abe, E. Dale Saunders  \n",
       "\n",
       "[79701 rows x 6 columns]"
      ]
     },
     "execution_count": 276,
>>>>>>> main
     "metadata": {},
     "output_type": "execute_result"
    }
   ],
   "source": [
<<<<<<< HEAD
    "books = pd.read_csv('Preprocessed_data.csv', index_col=False).reset_index(drop=True)\n",
    "\n",
    "# Let's drop columns we will not need \n",
    "df = books[['location', 'user_id', 'age', 'isbn', 'rating', 'book_title', 'book_author', 'year_of_publication', 'publisher', \n",
    "               'img_m', 'Summary', 'Category']]\n",
=======
    "# Get the ratings dataset\n",
    "ratings_df = pd.read_csv('ratings.csv')\n",
    "\n",
    "# merge them\n",
    "df = pd.merge(ratings_df, books[['book_id', 'title', 'original_publication_year', 'authors']], on='book_id')\n",
    "df = df.loc[:,~df.columns.duplicated()]\n",
>>>>>>> main
    "df"
   ]
  },
  {
   "cell_type": "code",
<<<<<<< HEAD
   "execution_count": 356,
=======
   "execution_count": 277,
>>>>>>> main
   "id": "51e49aa1",
   "metadata": {},
   "outputs": [
    {
     "name": "stdout",
     "output_type": "stream",
     "text": [
<<<<<<< HEAD
      "Null values: 0\n",
      "duplicates: 0\n"
=======
      "Null values: 1\n",
      "duplicates: 118\n"
>>>>>>> main
     ]
    }
   ],
   "source": [
    "# Let's check if we do not have any data missing\n",
    "print('Null values: {}'.format(sum(df.isnull().any())))\n",
    "# Or if there are not duplicates\n",
    "print('duplicates: {}'.format(sum(df.duplicated())))"
   ]
  },
  {
   "cell_type": "code",
<<<<<<< HEAD
   "execution_count": 357,
   "id": "7c49a5ee",
   "metadata": {},
   "outputs": [],
   "source": [
    "# I am going to drop the 0 ratings as I am pretty sure they are supposed to be non ratings\n",
    "df = df[df['rating'] != 0]"
=======
   "execution_count": 278,
   "id": "ebc7c712",
   "metadata": {},
   "outputs": [
    {
     "name": "stdout",
     "output_type": "stream",
     "text": [
      "duplicates: 0\n"
     ]
    }
   ],
   "source": [
    "# Lets delete duplicates\n",
    "df.drop_duplicates(inplace=True)\n",
    "print('duplicates: {}'.format(sum(df.duplicated())))"
>>>>>>> main
   ]
  },
  {
   "cell_type": "code",
<<<<<<< HEAD
   "execution_count": 358,
=======
   "execution_count": 298,
>>>>>>> main
   "id": "bb0176bf",
   "metadata": {},
   "outputs": [
    {
     "name": "stdout",
     "output_type": "stream",
     "text": [
      "Data Summary:\n",
<<<<<<< HEAD
      "Number of ratings: 383852\n",
      "Number of users: 68092\n",
      "Number of books: 135573\n",
      "Mean rating: 7.63\n",
      "Mean number of ratings per book: 2.83\n",
      "Average number of ratings given by user: 5.6372554778828645\n"
=======
      "Number of ratings: 79583\n",
      "Number of users: 28906\n",
      "Number of books: 812\n",
      "Mean rating: 3.86\n",
      "Mean number of ratings per book: 98.01\n"
>>>>>>> main
     ]
    }
   ],
   "source": [
    "print('Data Summary:')\n",
    "print('Number of ratings: {}'.format(len(df)))\n",
    "print('Number of users: {}'.format(len(df['user_id'].unique())))\n",
<<<<<<< HEAD
    "print('Number of books: {}'.format(len(df['book_title'].unique())))\n",
    "print('Mean rating: {}'.format(round(df['rating'].mean(),2)))\n",
    "print('Mean number of ratings per book: {}'.format(round(ratings['num of ratings'].mean(),2)))\n",
    "print('Average number of ratings given by user: {}'.format(pd.DataFrame(df.groupby('user_id')['rating'].count()).mean()[0]))"
=======
    "print('Number of books: {}'.format(len(df['book_id'].unique())))\n",
    "print('Mean rating: {}'.format(round(df['rating'].mean(),2)))\n",
    "print('Mean number of ratings per book: {}'.format(round(ratings['num of ratings'].mean(),2)))"
>>>>>>> main
   ]
  },
  {
   "cell_type": "code",
<<<<<<< HEAD
   "execution_count": 359,
=======
   "execution_count": 280,
>>>>>>> main
   "id": "5daf2745",
   "metadata": {},
   "outputs": [
    {
     "data": {
      "text/plain": [
<<<<<<< HEAD
       "count    383852.000000\n",
       "mean          7.626710\n",
       "std           1.841331\n",
       "min           1.000000\n",
       "25%           7.000000\n",
       "50%           8.000000\n",
       "75%           9.000000\n",
       "max          10.000000\n",
       "Name: rating, dtype: float64"
      ]
     },
     "execution_count": 359,
=======
       "count    79583.000000\n",
       "mean         3.861151\n",
       "std          0.985824\n",
       "min          1.000000\n",
       "25%          3.000000\n",
       "50%          4.000000\n",
       "75%          5.000000\n",
       "max          5.000000\n",
       "Name: rating, dtype: float64"
      ]
     },
     "execution_count": 280,
>>>>>>> main
     "metadata": {},
     "output_type": "execute_result"
    }
   ],
   "source": [
    "df['rating'].describe()"
   ]
  },
  {
   "cell_type": "code",
<<<<<<< HEAD
   "execution_count": 360,
=======
   "execution_count": 281,
>>>>>>> main
   "id": "58faba3f",
   "metadata": {},
   "outputs": [
    {
     "data": {
      "text/html": [
       "<div>\n",
       "<style scoped>\n",
       "    .dataframe tbody tr th:only-of-type {\n",
       "        vertical-align: middle;\n",
       "    }\n",
       "\n",
       "    .dataframe tbody tr th {\n",
       "        vertical-align: top;\n",
       "    }\n",
       "\n",
       "    .dataframe thead th {\n",
       "        text-align: right;\n",
       "    }\n",
       "</style>\n",
       "<table border=\"1\" class=\"dataframe\">\n",
       "  <thead>\n",
       "    <tr style=\"text-align: right;\">\n",
       "      <th></th>\n",
       "      <th>rating</th>\n",
       "      <th>num of ratings</th>\n",
       "    </tr>\n",
       "    <tr>\n",
<<<<<<< HEAD
       "      <th>book_title</th>\n",
=======
       "      <th>title</th>\n",
>>>>>>> main
       "      <th></th>\n",
       "      <th></th>\n",
       "    </tr>\n",
       "  </thead>\n",
       "  <tbody>\n",
       "    <tr>\n",
<<<<<<< HEAD
       "      <th>The Lovely Bones: A Novel</th>\n",
       "      <td>8.185290</td>\n",
       "      <td>707</td>\n",
       "    </tr>\n",
       "    <tr>\n",
       "      <th>Wild Animus</th>\n",
       "      <td>4.390706</td>\n",
       "      <td>581</td>\n",
       "    </tr>\n",
       "    <tr>\n",
       "      <th>The Da Vinci Code</th>\n",
       "      <td>8.439271</td>\n",
       "      <td>494</td>\n",
       "    </tr>\n",
       "    <tr>\n",
       "      <th>The Secret Life of Bees</th>\n",
       "      <td>8.477833</td>\n",
       "      <td>406</td>\n",
       "    </tr>\n",
       "    <tr>\n",
       "      <th>The Nanny Diaries: A Novel</th>\n",
       "      <td>7.437659</td>\n",
       "      <td>393</td>\n",
=======
       "      <th>Still Life with Woodpecker</th>\n",
       "      <td>4.777778</td>\n",
       "      <td>99</td>\n",
       "    </tr>\n",
       "    <tr>\n",
       "      <th>The Beautiful and Damned</th>\n",
       "      <td>4.660000</td>\n",
       "      <td>100</td>\n",
       "    </tr>\n",
       "    <tr>\n",
       "      <th>Villa Incognito</th>\n",
       "      <td>4.625000</td>\n",
       "      <td>96</td>\n",
       "    </tr>\n",
       "    <tr>\n",
       "      <th>Peter and the Shadow Thieves (Peter and the Starcatchers, #2)</th>\n",
       "      <td>4.557143</td>\n",
       "      <td>70</td>\n",
       "    </tr>\n",
       "    <tr>\n",
       "      <th>The Taste of Home Cookbook</th>\n",
       "      <td>4.550000</td>\n",
       "      <td>100</td>\n",
>>>>>>> main
       "    </tr>\n",
       "    <tr>\n",
       "      <th>...</th>\n",
       "      <td>...</td>\n",
       "      <td>...</td>\n",
       "    </tr>\n",
       "    <tr>\n",
<<<<<<< HEAD
       "      <th>Boundaries</th>\n",
       "      <td>7.666667</td>\n",
       "      <td>6</td>\n",
       "    </tr>\n",
       "    <tr>\n",
       "      <th>Late Bloomer</th>\n",
       "      <td>7.666667</td>\n",
       "      <td>6</td>\n",
       "    </tr>\n",
       "    <tr>\n",
       "      <th>Double Sin and Other Stories</th>\n",
       "      <td>7.666667</td>\n",
       "      <td>6</td>\n",
       "    </tr>\n",
       "    <tr>\n",
       "      <th>Bouquiner : Autobiobibliographie</th>\n",
       "      <td>7.666667</td>\n",
       "      <td>6</td>\n",
       "    </tr>\n",
       "    <tr>\n",
       "      <th>Walden and Civil Disobedience (Penguin American Library)</th>\n",
       "      <td>8.000000</td>\n",
       "      <td>6</td>\n",
       "    </tr>\n",
       "  </tbody>\n",
       "</table>\n",
       "<p>10000 rows × 2 columns</p>\n",
=======
       "      <th>The Woman in White</th>\n",
       "      <td>2.880000</td>\n",
       "      <td>100</td>\n",
       "    </tr>\n",
       "    <tr>\n",
       "      <th>The Chamber</th>\n",
       "      <td>2.880000</td>\n",
       "      <td>100</td>\n",
       "    </tr>\n",
       "    <tr>\n",
       "      <th>Pearls of Lutra (Redwall, #9)</th>\n",
       "      <td>2.800000</td>\n",
       "      <td>100</td>\n",
       "    </tr>\n",
       "    <tr>\n",
       "      <th>The Fellowship of the Ring (The Lord of the Rings, #1)</th>\n",
       "      <td>2.787879</td>\n",
       "      <td>99</td>\n",
       "    </tr>\n",
       "    <tr>\n",
       "      <th>Nine Stories</th>\n",
       "      <td>2.535354</td>\n",
       "      <td>99</td>\n",
       "    </tr>\n",
       "  </tbody>\n",
       "</table>\n",
       "<p>812 rows × 2 columns</p>\n",
>>>>>>> main
       "</div>"
      ],
      "text/plain": [
       "                                                      rating  num of ratings\n",
<<<<<<< HEAD
       "book_title                                                                  \n",
       "The Lovely Bones: A Novel                           8.185290             707\n",
       "Wild Animus                                         4.390706             581\n",
       "The Da Vinci Code                                   8.439271             494\n",
       "The Secret Life of Bees                             8.477833             406\n",
       "The Nanny Diaries: A Novel                          7.437659             393\n",
       "...                                                      ...             ...\n",
       "Boundaries                                          7.666667               6\n",
       "Late Bloomer                                        7.666667               6\n",
       "Double Sin and Other Stories                        7.666667               6\n",
       "Bouquiner : Autobiobibliographie                    7.666667               6\n",
       "Walden and Civil Disobedience (Penguin American...  8.000000               6\n",
       "\n",
       "[10000 rows x 2 columns]"
      ]
     },
     "execution_count": 360,
=======
       "title                                                                       \n",
       "Still Life with Woodpecker                          4.777778              99\n",
       "The Beautiful and Damned                            4.660000             100\n",
       "Villa Incognito                                     4.625000              96\n",
       "Peter and the Shadow Thieves (Peter and the Sta...  4.557143              70\n",
       "The Taste of Home Cookbook                          4.550000             100\n",
       "...                                                      ...             ...\n",
       "The Woman in White                                  2.880000             100\n",
       "The Chamber                                         2.880000             100\n",
       "Pearls of Lutra (Redwall, #9)                       2.800000             100\n",
       "The Fellowship of the Ring (The Lord of the Rin...  2.787879              99\n",
       "Nine Stories                                        2.535354              99\n",
       "\n",
       "[812 rows x 2 columns]"
      ]
     },
     "execution_count": 281,
>>>>>>> main
     "metadata": {},
     "output_type": "execute_result"
    }
   ],
   "source": [
    "# Some EDA\n",
<<<<<<< HEAD
    "ratings = pd.DataFrame(df.groupby('book_title')['rating'].mean()).sort_values(ascending=False, by='rating')\n",
    "ratings['num of ratings'] = pd.DataFrame(df.groupby('book_title')['rating'].count())\n",
    "ratings.sort_values('num of ratings', ascending=False)[:10000]"
=======
    "ratings = pd.DataFrame(df.groupby('title')['rating'].mean()).sort_values(ascending=False, by='rating')\n",
    "ratings['num of ratings'] = pd.DataFrame(df.groupby('title')['rating'].count())\n",
    "ratings"
>>>>>>> main
   ]
  },
  {
   "cell_type": "code",
<<<<<<< HEAD
   "execution_count": 361,
=======
   "execution_count": 282,
>>>>>>> main
   "id": "88eedd1e",
   "metadata": {},
   "outputs": [
    {
     "data": {
      "text/plain": [
       "<AxesSubplot:xlabel='num of ratings', ylabel='Count'>"
      ]
     },
<<<<<<< HEAD
     "execution_count": 361,
=======
     "execution_count": 282,
>>>>>>> main
     "metadata": {},
     "output_type": "execute_result"
    },
    {
     "data": {
<<<<<<< HEAD
      "image/png": "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\n",
=======
      "image/png": "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\n",
>>>>>>> main
      "text/plain": [
       "<Figure size 432x288 with 1 Axes>"
      ]
     },
     "metadata": {
      "needs_background": "light"
     },
     "output_type": "display_data"
    }
   ],
   "source": [
    "import seaborn as sns\n",
    "\n",
<<<<<<< HEAD
    "sns.histplot(ratings, x='num of ratings', bins=50)"
=======
    "sns.histplot(ratings, x='num of ratings', bins=10)"
>>>>>>> main
   ]
  },
  {
   "cell_type": "code",
<<<<<<< HEAD
   "execution_count": 362,
   "id": "2e9e6b35",
   "metadata": {},
   "outputs": [
    {
     "data": {
      "text/plain": [
       "<AxesSubplot:xlabel='num of ratings', ylabel='Count'>"
      ]
     },
     "execution_count": 362,
     "metadata": {},
     "output_type": "execute_result"
    },
    {
     "data": {
      "image/png": "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\n",
      "text/plain": [
       "<Figure size 432x288 with 1 Axes>"
      ]
     },
     "metadata": {
      "needs_background": "light"
     },
     "output_type": "display_data"
    }
   ],
   "source": [
    "import seaborn as sns\n",
    "# That is a very odd distribution, take into account only those with 100 ratings or more\n",
    "sns.histplot(ratings, x='num of ratings', bins=100)"
   ]
  },
  {
   "cell_type": "code",
   "execution_count": 363,
=======
   "execution_count": 283,
>>>>>>> main
   "id": "5875954b",
   "metadata": {},
   "outputs": [
    {
     "data": {
      "text/plain": [
       "<AxesSubplot:xlabel='rating', ylabel='Count'>"
      ]
     },
<<<<<<< HEAD
     "execution_count": 363,
=======
     "execution_count": 283,
>>>>>>> main
     "metadata": {},
     "output_type": "execute_result"
    },
    {
     "data": {
<<<<<<< HEAD
      "image/png": "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\n",
=======
      "image/png": "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\n",
>>>>>>> main
      "text/plain": [
       "<Figure size 432x288 with 1 Axes>"
      ]
     },
     "metadata": {
      "needs_background": "light"
     },
     "output_type": "display_data"
    }
   ],
   "source": [
    "sns.histplot(ratings, x='rating', bins=10)"
   ]
  },
  {
   "cell_type": "code",
<<<<<<< HEAD
   "execution_count": 364,
=======
   "execution_count": 284,
>>>>>>> main
   "id": "b5dee193",
   "metadata": {},
   "outputs": [
    {
     "data": {
      "text/plain": [
<<<<<<< HEAD
       "<seaborn.axisgrid.JointGrid at 0x2a74e6b5c40>"
      ]
     },
     "execution_count": 364,
=======
       "<seaborn.axisgrid.JointGrid at 0x2152ec68d90>"
      ]
     },
     "execution_count": 284,
>>>>>>> main
     "metadata": {},
     "output_type": "execute_result"
    },
    {
     "data": {
<<<<<<< HEAD
      "image/png": "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\n",
=======
      "image/png": "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\n",
>>>>>>> main
      "text/plain": [
       "<Figure size 432x432 with 3 Axes>"
      ]
     },
     "metadata": {
      "needs_background": "light"
     },
     "output_type": "display_data"
    }
   ],
   "source": [
    "sns.jointplot(x='rating', y='num of ratings', data=ratings)"
   ]
  },
  {
   "cell_type": "code",
<<<<<<< HEAD
   "execution_count": 365,
=======
   "execution_count": 288,
>>>>>>> main
   "id": "f829d0e0",
   "metadata": {},
   "outputs": [
    {
     "data": {
      "text/html": [
       "<div>\n",
       "<style scoped>\n",
       "    .dataframe tbody tr th:only-of-type {\n",
       "        vertical-align: middle;\n",
       "    }\n",
       "\n",
       "    .dataframe tbody tr th {\n",
       "        vertical-align: top;\n",
       "    }\n",
       "\n",
       "    .dataframe thead th {\n",
       "        text-align: right;\n",
       "    }\n",
       "</style>\n",
       "<table border=\"1\" class=\"dataframe\">\n",
       "  <thead>\n",
       "    <tr style=\"text-align: right;\">\n",
       "      <th></th>\n",
       "      <th>rating</th>\n",
       "      <th>num of ratings</th>\n",
       "    </tr>\n",
       "    <tr>\n",
<<<<<<< HEAD
       "      <th>book_title</th>\n",
=======
       "      <th>title</th>\n",
>>>>>>> main
       "      <th></th>\n",
       "      <th></th>\n",
       "    </tr>\n",
       "  </thead>\n",
       "  <tbody>\n",
       "    <tr>\n",
<<<<<<< HEAD
       "      <th>The Two Towers (The Lord of the Rings, Part 2)</th>\n",
       "      <td>9.330882</td>\n",
       "      <td>136</td>\n",
       "    </tr>\n",
       "    <tr>\n",
       "      <th>The Return of the King (The Lord of the Rings, Part 3)</th>\n",
       "      <td>9.213592</td>\n",
       "      <td>103</td>\n",
       "    </tr>\n",
       "    <tr>\n",
       "      <th>Harry Potter and the Goblet of Fire (Book 4)</th>\n",
       "      <td>9.125506</td>\n",
       "      <td>247</td>\n",
       "    </tr>\n",
       "    <tr>\n",
       "      <th>The Hobbit</th>\n",
       "      <td>9.120000</td>\n",
       "      <td>50</td>\n",
       "    </tr>\n",
       "    <tr>\n",
       "      <th>The Little Prince</th>\n",
       "      <td>9.111111</td>\n",
       "      <td>90</td>\n",
=======
       "      <th>Still Life with Woodpecker</th>\n",
       "      <td>4.777778</td>\n",
       "      <td>99</td>\n",
       "    </tr>\n",
       "    <tr>\n",
       "      <th>The Beautiful and Damned</th>\n",
       "      <td>4.660000</td>\n",
       "      <td>100</td>\n",
       "    </tr>\n",
       "    <tr>\n",
       "      <th>Villa Incognito</th>\n",
       "      <td>4.625000</td>\n",
       "      <td>96</td>\n",
       "    </tr>\n",
       "    <tr>\n",
       "      <th>Peter and the Shadow Thieves (Peter and the Starcatchers, #2)</th>\n",
       "      <td>4.557143</td>\n",
       "      <td>70</td>\n",
       "    </tr>\n",
       "    <tr>\n",
       "      <th>The Taste of Home Cookbook</th>\n",
       "      <td>4.550000</td>\n",
       "      <td>100</td>\n",
>>>>>>> main
       "    </tr>\n",
       "    <tr>\n",
       "      <th>...</th>\n",
       "      <td>...</td>\n",
       "      <td>...</td>\n",
       "    </tr>\n",
       "    <tr>\n",
<<<<<<< HEAD
       "      <th>Violin</th>\n",
       "      <td>6.106383</td>\n",
       "      <td>47</td>\n",
       "    </tr>\n",
       "    <tr>\n",
       "      <th>4 Blondes</th>\n",
       "      <td>5.653846</td>\n",
       "      <td>52</td>\n",
       "    </tr>\n",
       "    <tr>\n",
       "      <th>Isle of Dogs</th>\n",
       "      <td>5.433962</td>\n",
       "      <td>106</td>\n",
       "    </tr>\n",
       "    <tr>\n",
       "      <th>Four Blondes</th>\n",
       "      <td>5.393939</td>\n",
       "      <td>66</td>\n",
       "    </tr>\n",
       "    <tr>\n",
       "      <th>Wild Animus</th>\n",
       "      <td>4.390706</td>\n",
       "      <td>581</td>\n",
       "    </tr>\n",
       "  </tbody>\n",
       "</table>\n",
       "<p>841 rows × 2 columns</p>\n",
=======
       "      <th>The Woman in White</th>\n",
       "      <td>2.880000</td>\n",
       "      <td>100</td>\n",
       "    </tr>\n",
       "    <tr>\n",
       "      <th>The Chamber</th>\n",
       "      <td>2.880000</td>\n",
       "      <td>100</td>\n",
       "    </tr>\n",
       "    <tr>\n",
       "      <th>Pearls of Lutra (Redwall, #9)</th>\n",
       "      <td>2.800000</td>\n",
       "      <td>100</td>\n",
       "    </tr>\n",
       "    <tr>\n",
       "      <th>The Fellowship of the Ring (The Lord of the Rings, #1)</th>\n",
       "      <td>2.787879</td>\n",
       "      <td>99</td>\n",
       "    </tr>\n",
       "    <tr>\n",
       "      <th>Nine Stories</th>\n",
       "      <td>2.535354</td>\n",
       "      <td>99</td>\n",
       "    </tr>\n",
       "  </tbody>\n",
       "</table>\n",
       "<p>812 rows × 2 columns</p>\n",
>>>>>>> main
       "</div>"
      ],
      "text/plain": [
       "                                                      rating  num of ratings\n",
<<<<<<< HEAD
       "book_title                                                                  \n",
       "The Two Towers (The Lord of the Rings, Part 2)      9.330882             136\n",
       "The Return of the King (The Lord of the Rings, ...  9.213592             103\n",
       "Harry Potter and the Goblet of Fire (Book 4)        9.125506             247\n",
       "The Hobbit                                          9.120000              50\n",
       "The Little Prince                                   9.111111              90\n",
       "...                                                      ...             ...\n",
       "Violin                                              6.106383              47\n",
       "4 Blondes                                           5.653846              52\n",
       "Isle of Dogs                                        5.433962             106\n",
       "Four Blondes                                        5.393939              66\n",
       "Wild Animus                                         4.390706             581\n",
       "\n",
       "[841 rows x 2 columns]"
      ]
     },
     "execution_count": 365,
=======
       "title                                                                       \n",
       "Still Life with Woodpecker                          4.777778              99\n",
       "The Beautiful and Damned                            4.660000             100\n",
       "Villa Incognito                                     4.625000              96\n",
       "Peter and the Shadow Thieves (Peter and the Sta...  4.557143              70\n",
       "The Taste of Home Cookbook                          4.550000             100\n",
       "...                                                      ...             ...\n",
       "The Woman in White                                  2.880000             100\n",
       "The Chamber                                         2.880000             100\n",
       "Pearls of Lutra (Redwall, #9)                       2.800000             100\n",
       "The Fellowship of the Ring (The Lord of the Rin...  2.787879              99\n",
       "Nine Stories                                        2.535354              99\n",
       "\n",
       "[812 rows x 2 columns]"
      ]
     },
     "execution_count": 288,
>>>>>>> main
     "metadata": {},
     "output_type": "execute_result"
    }
   ],
   "source": [
<<<<<<< HEAD
    "# Best and least rated books with 40 or more ratings\n",
    "ratings[ratings['num of ratings'] > 40].sort_values(by='rating', ascending=False)"
=======
    "# Best and least rated books\n",
    "ratings.sort_values(by='rating', ascending=False)"
>>>>>>> main
   ]
  },
  {
   "cell_type": "code",
<<<<<<< HEAD
   "execution_count": 366,
=======
   "execution_count": 293,
>>>>>>> main
   "id": "7bf39c8c",
   "metadata": {},
   "outputs": [
    {
     "data": {
      "text/html": [
       "<div>\n",
       "<style scoped>\n",
       "    .dataframe tbody tr th:only-of-type {\n",
       "        vertical-align: middle;\n",
       "    }\n",
       "\n",
       "    .dataframe tbody tr th {\n",
       "        vertical-align: top;\n",
       "    }\n",
       "\n",
       "    .dataframe thead th {\n",
       "        text-align: right;\n",
       "    }\n",
       "</style>\n",
       "<table border=\"1\" class=\"dataframe\">\n",
       "  <thead>\n",
       "    <tr style=\"text-align: right;\">\n",
       "      <th></th>\n",
       "      <th>rating</th>\n",
       "      <th>num of ratings</th>\n",
       "    </tr>\n",
       "    <tr>\n",
<<<<<<< HEAD
       "      <th>book_title</th>\n",
=======
       "      <th>title</th>\n",
>>>>>>> main
       "      <th></th>\n",
       "      <th></th>\n",
       "    </tr>\n",
       "  </thead>\n",
       "  <tbody>\n",
       "    <tr>\n",
<<<<<<< HEAD
       "      <th>The Lovely Bones: A Novel</th>\n",
       "      <td>8.185290</td>\n",
       "      <td>707</td>\n",
       "    </tr>\n",
       "    <tr>\n",
       "      <th>Wild Animus</th>\n",
       "      <td>4.390706</td>\n",
       "      <td>581</td>\n",
       "    </tr>\n",
       "    <tr>\n",
       "      <th>The Da Vinci Code</th>\n",
       "      <td>8.439271</td>\n",
       "      <td>494</td>\n",
       "    </tr>\n",
       "    <tr>\n",
       "      <th>The Secret Life of Bees</th>\n",
       "      <td>8.477833</td>\n",
       "      <td>406</td>\n",
       "    </tr>\n",
       "    <tr>\n",
       "      <th>The Nanny Diaries: A Novel</th>\n",
       "      <td>7.437659</td>\n",
       "      <td>393</td>\n",
=======
       "      <th>The Beautiful and Damned</th>\n",
       "      <td>4.660000</td>\n",
       "      <td>100</td>\n",
       "    </tr>\n",
       "    <tr>\n",
       "      <th>The Taste of Home Cookbook</th>\n",
       "      <td>4.550000</td>\n",
       "      <td>100</td>\n",
       "    </tr>\n",
       "    <tr>\n",
       "      <th>A People's History of the United States</th>\n",
       "      <td>4.540000</td>\n",
       "      <td>100</td>\n",
       "    </tr>\n",
       "    <tr>\n",
       "      <th>Girl with a Pearl Earring</th>\n",
       "      <td>4.530000</td>\n",
       "      <td>100</td>\n",
       "    </tr>\n",
       "    <tr>\n",
       "      <th>Deception Point</th>\n",
       "      <td>4.500000</td>\n",
       "      <td>100</td>\n",
>>>>>>> main
       "    </tr>\n",
       "    <tr>\n",
       "      <th>...</th>\n",
       "      <td>...</td>\n",
       "      <td>...</td>\n",
       "    </tr>\n",
       "    <tr>\n",
<<<<<<< HEAD
       "      <th>The Value of Family : A Blueprint for the 21st Century</th>\n",
       "      <td>1.000000</td>\n",
       "      <td>1</td>\n",
       "    </tr>\n",
       "    <tr>\n",
       "      <th>Threshold (Book 2 of the Fire of Heaven Trilogy)</th>\n",
       "      <td>1.000000</td>\n",
       "      <td>1</td>\n",
       "    </tr>\n",
       "    <tr>\n",
       "      <th>Managing Management Time: Who's Got the Monkey?</th>\n",
       "      <td>1.000000</td>\n",
       "      <td>1</td>\n",
       "    </tr>\n",
       "    <tr>\n",
       "      <th>Marrying Omalley (Silhouette Romance, 1386)</th>\n",
       "      <td>1.000000</td>\n",
       "      <td>1</td>\n",
       "    </tr>\n",
       "    <tr>\n",
       "      <th>Let's Cook Microwave</th>\n",
       "      <td>1.000000</td>\n",
       "      <td>1</td>\n",
       "    </tr>\n",
       "  </tbody>\n",
       "</table>\n",
       "<p>135573 rows × 2 columns</p>\n",
=======
       "      <th>Loving What Is: Four Questions That Can Change Your Life</th>\n",
       "      <td>3.250000</td>\n",
       "      <td>60</td>\n",
       "    </tr>\n",
       "    <tr>\n",
       "      <th>Ghostwritten</th>\n",
       "      <td>3.166667</td>\n",
       "      <td>60</td>\n",
       "    </tr>\n",
       "    <tr>\n",
       "      <th>Jesus Freaks: Stories of Those Who Stood for Jesus, the Ultimate Jesus Freaks (Jesus Freaks, #1)</th>\n",
       "      <td>4.186441</td>\n",
       "      <td>59</td>\n",
       "    </tr>\n",
       "    <tr>\n",
       "      <th>Shopaholic Takes Manhattan (Shopaholic, #2)</th>\n",
       "      <td>3.796610</td>\n",
       "      <td>59</td>\n",
       "    </tr>\n",
       "    <tr>\n",
       "      <th>Shadow of the Hegemon (Ender's Shadow, #2)</th>\n",
       "      <td>4.000000</td>\n",
       "      <td>57</td>\n",
       "    </tr>\n",
       "  </tbody>\n",
       "</table>\n",
       "<p>812 rows × 2 columns</p>\n",
>>>>>>> main
       "</div>"
      ],
      "text/plain": [
       "                                                      rating  num of ratings\n",
<<<<<<< HEAD
       "book_title                                                                  \n",
       "The Lovely Bones: A Novel                           8.185290             707\n",
       "Wild Animus                                         4.390706             581\n",
       "The Da Vinci Code                                   8.439271             494\n",
       "The Secret Life of Bees                             8.477833             406\n",
       "The Nanny Diaries: A Novel                          7.437659             393\n",
       "...                                                      ...             ...\n",
       "The Value of Family : A Blueprint for the 21st ...  1.000000               1\n",
       "Threshold (Book 2 of the Fire of Heaven Trilogy)    1.000000               1\n",
       "Managing Management Time: Who's Got the Monkey?     1.000000               1\n",
       "Marrying Omalley (Silhouette Romance, 1386)         1.000000               1\n",
       "Let's Cook Microwave                                1.000000               1\n",
       "\n",
       "[135573 rows x 2 columns]"
      ]
     },
     "execution_count": 366,
=======
       "title                                                                       \n",
       "The Beautiful and Damned                            4.660000             100\n",
       "The Taste of Home Cookbook                          4.550000             100\n",
       "A People's History of the United States             4.540000             100\n",
       "Girl with a Pearl Earring                           4.530000             100\n",
       "Deception Point                                     4.500000             100\n",
       "...                                                      ...             ...\n",
       "Loving What Is: Four Questions That Can Change ...  3.250000              60\n",
       "Ghostwritten                                        3.166667              60\n",
       "Jesus Freaks: Stories of Those Who Stood for Je...  4.186441              59\n",
       "Shopaholic Takes Manhattan (Shopaholic, #2)         3.796610              59\n",
       "Shadow of the Hegemon (Ender's Shadow, #2)          4.000000              57\n",
       "\n",
       "[812 rows x 2 columns]"
      ]
     },
     "execution_count": 293,
>>>>>>> main
     "metadata": {},
     "output_type": "execute_result"
    }
   ],
   "source": [
<<<<<<< HEAD
    "# Books with largest number of ratings\n",
=======
    "# Least and most number of times rated books\n",
>>>>>>> main
    "ratings.sort_values(by=['num of ratings', 'rating'], ascending=False)"
   ]
  },
  {
   "cell_type": "code",
<<<<<<< HEAD
   "execution_count": 367,
   "id": "4d9d6641",
   "metadata": {},
   "outputs": [],
   "source": [
    "# Let's get the books that have more than 10 ratings\n",
    "over_10 = ratings[ratings['num of ratings'] > 10]"
=======
   "execution_count": 300,
   "id": "7cc47629",
   "metadata": {},
   "outputs": [],
   "source": [
    "df.to_csv('ratings_with_features.csv', index=False)"
>>>>>>> main
   ]
  },
  {
   "cell_type": "code",
<<<<<<< HEAD
   "execution_count": 368,
   "id": "39a19f09",
   "metadata": {},
   "outputs": [
    {
     "name": "stderr",
     "output_type": "stream",
     "text": [
      "C:\\Users\\User\\AppData\\Local\\Temp/ipykernel_6612/2745085126.py:7: SettingWithCopyWarning: \n",
      "A value is trying to be set on a copy of a slice from a DataFrame.\n",
      "Try using .loc[row_indexer,col_indexer] = value instead\n",
      "\n",
      "See the caveats in the documentation: https://pandas.pydata.org/pandas-docs/stable/user_guide/indexing.html#returning-a-view-versus-a-copy\n",
      "  df['num of ratings'] = df['book_title'].apply(get_num_of_ratings)\n"
     ]
    }
   ],
   "source": [
    "# Aplly it to the main df\n",
    "def get_num_of_ratings(bookname):\n",
    "    if bookname in over_10.index:\n",
    "        num_of_ratings = over_10[over_10.index == bookname]['num of ratings']\n",
    "        return num_of_ratings[0]\n",
    "    \n",
    "df['num of ratings'] = df['book_title'].apply(get_num_of_ratings)"
   ]
  },
  {
   "cell_type": "code",
   "execution_count": 369,
   "id": "f447b631",
=======
   "execution_count": 301,
   "id": "eaec1226",
>>>>>>> main
   "metadata": {},
   "outputs": [
    {
     "data": {
      "text/html": [
       "<div>\n",
       "<style scoped>\n",
       "    .dataframe tbody tr th:only-of-type {\n",
       "        vertical-align: middle;\n",
       "    }\n",
       "\n",
       "    .dataframe tbody tr th {\n",
       "        vertical-align: top;\n",
       "    }\n",
       "\n",
       "    .dataframe thead th {\n",
       "        text-align: right;\n",
       "    }\n",
       "</style>\n",
       "<table border=\"1\" class=\"dataframe\">\n",
       "  <thead>\n",
       "    <tr style=\"text-align: right;\">\n",
       "      <th></th>\n",
<<<<<<< HEAD
       "      <th>location</th>\n",
       "      <th>user_id</th>\n",
       "      <th>age</th>\n",
       "      <th>isbn</th>\n",
       "      <th>rating</th>\n",
       "      <th>book_title</th>\n",
       "      <th>book_author</th>\n",
       "      <th>year_of_publication</th>\n",
       "      <th>publisher</th>\n",
       "      <th>img_m</th>\n",
       "      <th>Summary</th>\n",
       "      <th>Category</th>\n",
       "      <th>num of ratings</th>\n",
       "    </tr>\n",
       "  </thead>\n",
       "  <tbody>\n",
       "    <tr>\n",
       "      <th>31</th>\n",
       "      <td>n/a, n/a, n/a</td>\n",
       "      <td>11676</td>\n",
       "      <td>34.7439</td>\n",
       "      <td>0399135782</td>\n",
       "      <td>9</td>\n",
       "      <td>The Kitchen God's Wife</td>\n",
       "      <td>Amy Tan</td>\n",
       "      <td>1991.0</td>\n",
       "      <td>Putnam Pub Group</td>\n",
       "      <td>http://images.amazon.com/images/P/0399135782.0...</td>\n",
       "      <td>A Chinese immigrant who is convinced she is dy...</td>\n",
       "      <td>['Fiction']</td>\n",
       "      <td>116.0</td>\n",
       "    </tr>\n",
       "    <tr>\n",
       "      <th>32</th>\n",
       "      <td>knoxville, tennessee, usa</td>\n",
       "      <td>29526</td>\n",
       "      <td>26.0000</td>\n",
       "      <td>0399135782</td>\n",
       "      <td>9</td>\n",
       "      <td>The Kitchen God's Wife</td>\n",
       "      <td>Amy Tan</td>\n",
       "      <td>1991.0</td>\n",
       "      <td>Putnam Pub Group</td>\n",
       "      <td>http://images.amazon.com/images/P/0399135782.0...</td>\n",
       "      <td>A Chinese immigrant who is convinced she is dy...</td>\n",
       "      <td>['Fiction']</td>\n",
       "      <td>116.0</td>\n",
       "    </tr>\n",
       "  </tbody>\n",
       "</table>\n",
       "</div>"
      ],
      "text/plain": [
       "                     location  user_id      age        isbn  rating  \\\n",
       "31              n/a, n/a, n/a    11676  34.7439  0399135782       9   \n",
       "32  knoxville, tennessee, usa    29526  26.0000  0399135782       9   \n",
       "\n",
       "                book_title book_author  year_of_publication         publisher  \\\n",
       "31  The Kitchen God's Wife     Amy Tan               1991.0  Putnam Pub Group   \n",
       "32  The Kitchen God's Wife     Amy Tan               1991.0  Putnam Pub Group   \n",
       "\n",
       "                                                img_m  \\\n",
       "31  http://images.amazon.com/images/P/0399135782.0...   \n",
       "32  http://images.amazon.com/images/P/0399135782.0...   \n",
       "\n",
       "                                              Summary     Category  \\\n",
       "31  A Chinese immigrant who is convinced she is dy...  ['Fiction']   \n",
       "32  A Chinese immigrant who is convinced she is dy...  ['Fiction']   \n",
       "\n",
       "    num of ratings  \n",
       "31           116.0  \n",
       "32           116.0  "
      ]
     },
     "execution_count": 369,
     "metadata": {},
     "output_type": "execute_result"
    }
   ],
   "source": [
    "# Drop the ratings for the books that have less than 10 ratings\n",
    "# The dataset is pretty have so it would be an advantage for model building\n",
    "dff = df.dropna()\n",
    "# df.drop(['num of user ratings'], axis=1, inplace=True)\n",
    "dff.head(2)"
   ]
  },
  {
   "cell_type": "code",
   "execution_count": 370,
   "id": "8c7d5629",
   "metadata": {},
   "outputs": [
    {
     "data": {
      "text/plain": [
       "5044"
      ]
     },
     "execution_count": 370,
     "metadata": {},
     "output_type": "execute_result"
    }
   ],
   "source": [
    "dff['book_title'].nunique()"
   ]
  },
  {
   "cell_type": "code",
   "execution_count": 371,
   "id": "af607046",
   "metadata": {},
   "outputs": [
    {
     "data": {
      "text/plain": [
       "5044"
      ]
     },
     "execution_count": 371,
     "metadata": {},
     "output_type": "execute_result"
    }
   ],
   "source": [
    "len(over_10)"
   ]
  },
  {
   "cell_type": "code",
   "execution_count": 372,
   "id": "f71b4301",
   "metadata": {},
   "outputs": [
    {
     "data": {
      "text/html": [
       "<div>\n",
       "<style scoped>\n",
       "    .dataframe tbody tr th:only-of-type {\n",
       "        vertical-align: middle;\n",
       "    }\n",
       "\n",
       "    .dataframe tbody tr th {\n",
       "        vertical-align: top;\n",
       "    }\n",
       "\n",
       "    .dataframe thead th {\n",
       "        text-align: right;\n",
       "    }\n",
       "</style>\n",
       "<table border=\"1\" class=\"dataframe\">\n",
       "  <thead>\n",
       "    <tr style=\"text-align: right;\">\n",
       "      <th></th>\n",
       "      <th>rating</th>\n",
       "      <th>num of ratings</th>\n",
       "    </tr>\n",
       "    <tr>\n",
       "      <th>user_id</th>\n",
       "      <th></th>\n",
       "      <th></th>\n",
       "    </tr>\n",
       "  </thead>\n",
       "  <tbody>\n",
       "    <tr>\n",
       "      <th>11676</th>\n",
       "      <td>7.615701</td>\n",
       "      <td>2191</td>\n",
       "    </tr>\n",
       "    <tr>\n",
       "      <th>98391</th>\n",
       "      <td>8.799127</td>\n",
       "      <td>458</td>\n",
       "    </tr>\n",
       "    <tr>\n",
       "      <th>153662</th>\n",
       "      <td>9.064690</td>\n",
       "      <td>371</td>\n",
       "    </tr>\n",
       "    <tr>\n",
       "      <th>16795</th>\n",
       "      <td>7.682320</td>\n",
       "      <td>362</td>\n",
       "    </tr>\n",
       "    <tr>\n",
       "      <th>95359</th>\n",
       "      <td>7.931818</td>\n",
       "      <td>308</td>\n",
       "    </tr>\n",
       "    <tr>\n",
       "      <th>...</th>\n",
       "      <td>...</td>\n",
       "      <td>...</td>\n",
       "    </tr>\n",
       "    <tr>\n",
       "      <th>147420</th>\n",
       "      <td>8.307692</td>\n",
       "      <td>13</td>\n",
       "    </tr>\n",
       "    <tr>\n",
       "      <th>201697</th>\n",
       "      <td>8.307692</td>\n",
       "      <td>13</td>\n",
       "    </tr>\n",
       "    <tr>\n",
       "      <th>137137</th>\n",
       "      <td>9.307692</td>\n",
       "      <td>13</td>\n",
       "    </tr>\n",
       "    <tr>\n",
       "      <th>86392</th>\n",
       "      <td>9.307692</td>\n",
       "      <td>13</td>\n",
       "    </tr>\n",
       "    <tr>\n",
       "      <th>92132</th>\n",
       "      <td>9.307692</td>\n",
       "      <td>13</td>\n",
       "    </tr>\n",
       "  </tbody>\n",
       "</table>\n",
       "<p>2000 rows × 2 columns</p>\n",
       "</div>"
      ],
      "text/plain": [
       "           rating  num of ratings\n",
       "user_id                          \n",
       "11676    7.615701            2191\n",
       "98391    8.799127             458\n",
       "153662   9.064690             371\n",
       "16795    7.682320             362\n",
       "95359    7.931818             308\n",
       "...           ...             ...\n",
       "147420   8.307692              13\n",
       "201697   8.307692              13\n",
       "137137   9.307692              13\n",
       "86392    9.307692              13\n",
       "92132    9.307692              13\n",
       "\n",
       "[2000 rows x 2 columns]"
      ]
     },
     "execution_count": 372,
     "metadata": {},
     "output_type": "execute_result"
    }
   ],
   "source": [
    "users = pd.DataFrame(dff.groupby('user_id')['rating'].mean()).sort_values(ascending=False, by='rating')\n",
    "users['num of ratings'] = pd.DataFrame(dff.groupby('user_id')['rating'].count())\n",
    "users.sort_values('num of ratings', ascending=False)[:2000]\n",
    "\n",
    "top_2000 = users.sort_values('num of ratings', ascending=False)[:2000]\n",
    "top_2000"
   ]
  },
  {
   "cell_type": "code",
   "execution_count": 373,
   "id": "b6f0d9d7",
   "metadata": {},
   "outputs": [
    {
     "name": "stderr",
     "output_type": "stream",
     "text": [
      "C:\\Users\\User\\AppData\\Local\\Temp/ipykernel_6612/1674349280.py:7: SettingWithCopyWarning: \n",
      "A value is trying to be set on a copy of a slice from a DataFrame.\n",
      "Try using .loc[row_indexer,col_indexer] = value instead\n",
      "\n",
      "See the caveats in the documentation: https://pandas.pydata.org/pandas-docs/stable/user_guide/indexing.html#returning-a-view-versus-a-copy\n",
      "  dff['num of ratings user'] = df['user_id'].apply(get_num_of_ratings_user)\n"
     ]
    }
   ],
   "source": [
    "def get_num_of_ratings_user(user_id):\n",
    "\n",
    "    if user_id in top_2000.index:\n",
    "        num_of_ratings_user = top_2000[top_2000.index == user_id]['num of ratings']\n",
    "        return num_of_ratings_user.values[0]\n",
    "    \n",
    "dff['num of ratings user'] = df['user_id'].apply(get_num_of_ratings_user)"
   ]
  },
  {
   "cell_type": "code",
   "execution_count": 374,
   "id": "6e944d26",
   "metadata": {},
   "outputs": [],
   "source": [
    "dff = dff.dropna()"
   ]
  },
  {
   "cell_type": "code",
   "execution_count": 441,
   "id": "15c1acb3",
   "metadata": {},
   "outputs": [
    {
     "name": "stdout",
     "output_type": "stream",
     "text": [
      "Data Summary:\n",
      "Number of ratings: 68588\n",
      "Number of users: 2000\n",
      "Number of books: 5007\n",
      "Mean rating: 7.9\n",
      "Mean number of ratings per book: 69.78\n",
      "Average number of ratings given by user: 34.294\n"
     ]
    }
   ],
   "source": [
    "print('Data Summary:')\n",
    "print('Number of ratings: {}'.format(len(dff)))\n",
    "print('Number of users: {}'.format(len(dff['user_id'].unique())))\n",
    "print('Number of books: {}'.format(len(dff['book_title'].unique())))\n",
    "print('Mean rating: {}'.format(round(dff['rating'].mean(),2)))\n",
    "print('Mean number of ratings per book: {}'.format(round(dff['num of ratings'].mean(),2)))\n",
    "print('Average number of ratings given by user: {}'.format(pd.DataFrame(dff.groupby('user_id')['rating'].count()).mean()[0]))"
   ]
  },
  {
   "cell_type": "code",
   "execution_count": 442,
   "id": "a4e3544e",
   "metadata": {},
   "outputs": [
    {
     "data": {
      "text/html": [
       "<div>\n",
       "<style scoped>\n",
       "    .dataframe tbody tr th:only-of-type {\n",
       "        vertical-align: middle;\n",
       "    }\n",
       "\n",
       "    .dataframe tbody tr th {\n",
       "        vertical-align: top;\n",
       "    }\n",
       "\n",
       "    .dataframe thead th {\n",
       "        text-align: right;\n",
       "    }\n",
       "</style>\n",
       "<table border=\"1\" class=\"dataframe\">\n",
       "  <thead>\n",
       "    <tr style=\"text-align: right;\">\n",
       "      <th></th>\n",
       "      <th>Summary</th>\n",
       "    </tr>\n",
       "    <tr>\n",
       "      <th>book_title</th>\n",
       "      <th></th>\n",
       "    </tr>\n",
       "  </thead>\n",
       "  <tbody>\n",
       "  </tbody>\n",
       "</table>\n",
       "</div>"
      ],
      "text/plain": [
       "Empty DataFrame\n",
       "Columns: [Summary]\n",
       "Index: []"
      ]
     },
     "execution_count": 442,
     "metadata": {},
     "output_type": "execute_result"
    }
   ],
   "source": [
    "# It turns out that some books have more than one publication\n",
    "# Some of the publications have different summary, which turns out to be a problem in model building\n",
    "# I will map the summary of each movie so it is the same for each publication\n",
    "\n",
    "over_2publications = pd.DataFrame(dff.groupby(['book_title'])['Summary'].nunique())\n",
    "over_2publications = over_2publications[over_2publications['Summary'] != 1]\n",
    "over_2publications\n",
    "\n",
    "for title in over_2publications.index:\n",
    "    id_of_longest_summary = dff[dff['book_title'] == title]['Summary'].apply(lambda x: len(x)).idxmax()\n",
    "    dff.loc[dff['book_title'] == title, ['Summary']] = dff.iloc[id_of_longest_summary]['Summary']"
   ]
  },
  {
   "cell_type": "code",
   "execution_count": 443,
   "id": "fdcaf482",
   "metadata": {},
   "outputs": [
    {
     "data": {
      "text/html": [
       "<div>\n",
       "<style scoped>\n",
       "    .dataframe tbody tr th:only-of-type {\n",
       "        vertical-align: middle;\n",
       "    }\n",
       "\n",
       "    .dataframe tbody tr th {\n",
       "        vertical-align: top;\n",
       "    }\n",
       "\n",
       "    .dataframe thead th {\n",
       "        text-align: right;\n",
       "    }\n",
       "</style>\n",
       "<table border=\"1\" class=\"dataframe\">\n",
       "  <thead>\n",
       "    <tr style=\"text-align: right;\">\n",
       "      <th></th>\n",
       "      <th>Summary</th>\n",
       "    </tr>\n",
       "    <tr>\n",
       "      <th>book_title</th>\n",
       "      <th></th>\n",
       "    </tr>\n",
       "  </thead>\n",
       "  <tbody>\n",
       "    <tr>\n",
       "      <th>'Salem's Lot</th>\n",
       "      <td>1</td>\n",
       "    </tr>\n",
       "    <tr>\n",
       "      <th>Summer Moon</th>\n",
       "      <td>1</td>\n",
       "    </tr>\n",
       "    <tr>\n",
       "      <th>Summer Light</th>\n",
       "      <td>1</td>\n",
       "    </tr>\n",
       "    <tr>\n",
       "      <th>Summer Island</th>\n",
       "      <td>1</td>\n",
       "    </tr>\n",
       "    <tr>\n",
       "      <th>Sullivan's Woman (Silhouette Single Title)</th>\n",
       "      <td>1</td>\n",
       "    </tr>\n",
       "    <tr>\n",
       "      <th>...</th>\n",
       "      <td>...</td>\n",
       "    </tr>\n",
       "    <tr>\n",
       "      <th>High Five (A Stephanie Plum Novel)</th>\n",
       "      <td>1</td>\n",
       "    </tr>\n",
       "    <tr>\n",
       "      <th>High Fidelity. (Dt. Ausgabe)</th>\n",
       "      <td>1</td>\n",
       "    </tr>\n",
       "    <tr>\n",
       "      <th>High Fidelity</th>\n",
       "      <td>1</td>\n",
       "    </tr>\n",
       "    <tr>\n",
       "      <th>High Tide in Tucson: Essays from Now or Never</th>\n",
       "      <td>1</td>\n",
       "    </tr>\n",
       "    <tr>\n",
       "      <th>stardust</th>\n",
       "      <td>1</td>\n",
       "    </tr>\n",
       "  </tbody>\n",
       "</table>\n",
       "<p>5007 rows × 1 columns</p>\n",
       "</div>"
      ],
      "text/plain": [
       "                                               Summary\n",
       "book_title                                            \n",
       "'Salem's Lot                                         1\n",
       "Summer Moon                                          1\n",
       "Summer Light                                         1\n",
       "Summer Island                                        1\n",
       "Sullivan's Woman (Silhouette Single Title)           1\n",
       "...                                                ...\n",
       "High Five (A Stephanie Plum Novel)                   1\n",
       "High Fidelity. (Dt. Ausgabe)                         1\n",
       "High Fidelity                                        1\n",
       "High Tide in Tucson: Essays from Now or Never        1\n",
       "stardust                                             1\n",
       "\n",
       "[5007 rows x 1 columns]"
      ]
     },
     "execution_count": 443,
     "metadata": {},
     "output_type": "execute_result"
    }
   ],
   "source": [
    "# Lets make sure it works\n",
    "pd.DataFrame(dff.groupby(['book_title'])['Summary'].nunique()).sort_values('Summary')"
   ]
  },
  {
   "cell_type": "code",
   "execution_count": 444,
   "id": "0f1eb5a9",
   "metadata": {},
   "outputs": [],
   "source": [
    "dff.to_csv('ratings_with_features.csv', index=False)"
   ]
  },
  {
   "cell_type": "code",
   "execution_count": 445,
   "id": "6bbdc989",
   "metadata": {},
   "outputs": [],
   "source": [
    "dff = pd.read_csv('ratings_with_features.csv')"
   ]
  },
  {
   "cell_type": "code",
   "execution_count": 448,
   "id": "0afffbd9",
   "metadata": {},
   "outputs": [
    {
     "data": {
      "text/html": [
       "<div>\n",
       "<style scoped>\n",
       "    .dataframe tbody tr th:only-of-type {\n",
       "        vertical-align: middle;\n",
       "    }\n",
       "\n",
       "    .dataframe tbody tr th {\n",
       "        vertical-align: top;\n",
       "    }\n",
       "\n",
       "    .dataframe thead th {\n",
       "        text-align: right;\n",
       "    }\n",
       "</style>\n",
       "<table border=\"1\" class=\"dataframe\">\n",
       "  <thead>\n",
       "    <tr style=\"text-align: right;\">\n",
       "      <th></th>\n",
       "      <th>location</th>\n",
       "      <th>user_id</th>\n",
       "      <th>age</th>\n",
       "      <th>isbn</th>\n",
       "      <th>rating</th>\n",
       "      <th>book_title</th>\n",
       "      <th>book_author</th>\n",
       "      <th>year_of_publication</th>\n",
       "      <th>publisher</th>\n",
       "      <th>img_m</th>\n",
       "      <th>Summary</th>\n",
       "      <th>Category</th>\n",
       "      <th>num of ratings</th>\n",
       "      <th>num of ratings user</th>\n",
=======
       "      <th>book_id</th>\n",
       "      <th>user_id</th>\n",
       "      <th>rating</th>\n",
       "      <th>title</th>\n",
       "      <th>original_publication_year</th>\n",
       "      <th>authors</th>\n",
>>>>>>> main
       "    </tr>\n",
       "  </thead>\n",
       "  <tbody>\n",
       "    <tr>\n",
       "      <th>0</th>\n",
<<<<<<< HEAD
       "      <td>n/a, n/a, n/a</td>\n",
       "      <td>11676</td>\n",
       "      <td>34.7439</td>\n",
       "      <td>0399135782</td>\n",
       "      <td>9</td>\n",
       "      <td>The Kitchen God's Wife</td>\n",
       "      <td>Amy Tan</td>\n",
       "      <td>1991.0</td>\n",
       "      <td>Putnam Pub Group</td>\n",
       "      <td>http://images.amazon.com/images/P/0399135782.0...</td>\n",
       "      <td>A Chinese immigrant who is convinced she is dy...</td>\n",
       "      <td>['Fiction']</td>\n",
       "      <td>116.0</td>\n",
       "      <td>2191.0</td>\n",
       "    </tr>\n",
       "    <tr>\n",
       "      <th>1</th>\n",
       "      <td>knoxville, tennessee, usa</td>\n",
       "      <td>29526</td>\n",
       "      <td>26.0000</td>\n",
       "      <td>0399135782</td>\n",
       "      <td>9</td>\n",
       "      <td>The Kitchen God's Wife</td>\n",
       "      <td>Amy Tan</td>\n",
       "      <td>1991.0</td>\n",
       "      <td>Putnam Pub Group</td>\n",
       "      <td>http://images.amazon.com/images/P/0399135782.0...</td>\n",
       "      <td>A Chinese immigrant who is convinced she is dy...</td>\n",
       "      <td>['Fiction']</td>\n",
       "      <td>116.0</td>\n",
       "      <td>62.0</td>\n",
       "    </tr>\n",
       "    <tr>\n",
       "      <th>2</th>\n",
       "      <td>san antonio, texas, usa</td>\n",
       "      <td>46398</td>\n",
       "      <td>37.0000</td>\n",
       "      <td>0399135782</td>\n",
       "      <td>9</td>\n",
       "      <td>The Kitchen God's Wife</td>\n",
       "      <td>Amy Tan</td>\n",
       "      <td>1991.0</td>\n",
       "      <td>Putnam Pub Group</td>\n",
       "      <td>http://images.amazon.com/images/P/0399135782.0...</td>\n",
       "      <td>A Chinese immigrant who is convinced she is dy...</td>\n",
       "      <td>['Fiction']</td>\n",
       "      <td>116.0</td>\n",
       "      <td>132.0</td>\n",
       "    </tr>\n",
       "    <tr>\n",
       "      <th>3</th>\n",
       "      <td>homer, alaska, usa</td>\n",
       "      <td>148712</td>\n",
       "      <td>34.7439</td>\n",
       "      <td>0399135782</td>\n",
       "      <td>10</td>\n",
       "      <td>The Kitchen God's Wife</td>\n",
       "      <td>Amy Tan</td>\n",
       "      <td>1991.0</td>\n",
       "      <td>Putnam Pub Group</td>\n",
       "      <td>http://images.amazon.com/images/P/0399135782.0...</td>\n",
       "      <td>A Chinese immigrant who is convinced she is dy...</td>\n",
       "      <td>['Fiction']</td>\n",
       "      <td>116.0</td>\n",
       "      <td>19.0</td>\n",
       "    </tr>\n",
       "    <tr>\n",
       "      <th>4</th>\n",
       "      <td>colorado springs, colorado, usa</td>\n",
       "      <td>230522</td>\n",
       "      <td>52.0000</td>\n",
       "      <td>0399135782</td>\n",
       "      <td>7</td>\n",
       "      <td>The Kitchen God's Wife</td>\n",
       "      <td>Amy Tan</td>\n",
       "      <td>1991.0</td>\n",
       "      <td>Putnam Pub Group</td>\n",
       "      <td>http://images.amazon.com/images/P/0399135782.0...</td>\n",
       "      <td>A Chinese immigrant who is convinced she is dy...</td>\n",
       "      <td>['Fiction']</td>\n",
       "      <td>116.0</td>\n",
       "      <td>102.0</td>\n",
=======
       "      <td>1</td>\n",
       "      <td>314</td>\n",
       "      <td>5</td>\n",
       "      <td>Harry Potter and the Half-Blood Prince (Harry ...</td>\n",
       "      <td>2005.0</td>\n",
       "      <td>J.K. Rowling, Mary GrandPré</td>\n",
       "    </tr>\n",
       "    <tr>\n",
       "      <th>1</th>\n",
       "      <td>1</td>\n",
       "      <td>439</td>\n",
       "      <td>3</td>\n",
       "      <td>Harry Potter and the Half-Blood Prince (Harry ...</td>\n",
       "      <td>2005.0</td>\n",
       "      <td>J.K. Rowling, Mary GrandPré</td>\n",
       "    </tr>\n",
       "    <tr>\n",
       "      <th>2</th>\n",
       "      <td>1</td>\n",
       "      <td>588</td>\n",
       "      <td>5</td>\n",
       "      <td>Harry Potter and the Half-Blood Prince (Harry ...</td>\n",
       "      <td>2005.0</td>\n",
       "      <td>J.K. Rowling, Mary GrandPré</td>\n",
       "    </tr>\n",
       "    <tr>\n",
       "      <th>3</th>\n",
       "      <td>1</td>\n",
       "      <td>1169</td>\n",
       "      <td>4</td>\n",
       "      <td>Harry Potter and the Half-Blood Prince (Harry ...</td>\n",
       "      <td>2005.0</td>\n",
       "      <td>J.K. Rowling, Mary GrandPré</td>\n",
       "    </tr>\n",
       "    <tr>\n",
       "      <th>4</th>\n",
       "      <td>1</td>\n",
       "      <td>1185</td>\n",
       "      <td>4</td>\n",
       "      <td>Harry Potter and the Half-Blood Prince (Harry ...</td>\n",
       "      <td>2005.0</td>\n",
       "      <td>J.K. Rowling, Mary GrandPré</td>\n",
>>>>>>> main
       "    </tr>\n",
       "    <tr>\n",
       "      <th>...</th>\n",
       "      <td>...</td>\n",
       "      <td>...</td>\n",
       "      <td>...</td>\n",
       "      <td>...</td>\n",
       "      <td>...</td>\n",
       "      <td>...</td>\n",
<<<<<<< HEAD
       "      <td>...</td>\n",
       "      <td>...</td>\n",
       "      <td>...</td>\n",
       "      <td>...</td>\n",
       "      <td>...</td>\n",
       "      <td>...</td>\n",
       "      <td>...</td>\n",
       "      <td>...</td>\n",
       "    </tr>\n",
       "    <tr>\n",
       "      <th>68583</th>\n",
       "      <td>toronto, ontario, canada</td>\n",
       "      <td>270713</td>\n",
       "      <td>27.0000</td>\n",
       "      <td>0312095376</td>\n",
       "      <td>9</td>\n",
       "      <td>The Bride</td>\n",
       "      <td>Bapsi Sidhwa</td>\n",
       "      <td>1983.0</td>\n",
       "      <td>St Martins Pr</td>\n",
       "      <td>http://images.amazon.com/images/P/0312095376.0...</td>\n",
       "      <td>9</td>\n",
       "      <td>9</td>\n",
       "      <td>18.0</td>\n",
       "      <td>85.0</td>\n",
       "    </tr>\n",
       "    <tr>\n",
       "      <th>68584</th>\n",
       "      <td>west bend, wisconsin, usa</td>\n",
       "      <td>270820</td>\n",
       "      <td>52.0000</td>\n",
       "      <td>0606298347</td>\n",
       "      <td>7</td>\n",
       "      <td>The Vision</td>\n",
       "      <td>Dean R. Koontz</td>\n",
       "      <td>1986.0</td>\n",
       "      <td>Turtleback Books Distributed by Demco Media</td>\n",
       "      <td>http://images.amazon.com/images/P/0606298347.0...</td>\n",
       "      <td>Mary Bergen&amp;#39;s remarkable clairvoyant talen...</td>\n",
       "      <td>9</td>\n",
       "      <td>23.0</td>\n",
       "      <td>49.0</td>\n",
       "    </tr>\n",
       "    <tr>\n",
       "      <th>68585</th>\n",
       "      <td>gahanna/columbus, ohio, usa</td>\n",
       "      <td>274061</td>\n",
       "      <td>26.0000</td>\n",
       "      <td>1551663147</td>\n",
       "      <td>10</td>\n",
       "      <td>Fever</td>\n",
       "      <td>Elizabeth Lowell</td>\n",
       "      <td>1997.0</td>\n",
       "      <td>Mira</td>\n",
       "      <td>http://images.amazon.com/images/P/1551663147.0...</td>\n",
       "      <td>This unforgettable sequel to Like Boogie on Tu...</td>\n",
       "      <td>['Utah']</td>\n",
       "      <td>25.0</td>\n",
       "      <td>103.0</td>\n",
       "    </tr>\n",
       "    <tr>\n",
       "      <th>68586</th>\n",
       "      <td>pittsburgh, pennsylvania, usa</td>\n",
       "      <td>275970</td>\n",
       "      <td>46.0000</td>\n",
       "      <td>1586210661</td>\n",
       "      <td>9</td>\n",
       "      <td>Me Talk Pretty One Day</td>\n",
       "      <td>David Sedaris</td>\n",
       "      <td>2001.0</td>\n",
       "      <td>Time Warner Audio Major</td>\n",
       "      <td>http://images.amazon.com/images/P/1586210661.0...</td>\n",
       "      <td>9</td>\n",
       "      <td>9</td>\n",
       "      <td>218.0</td>\n",
       "      <td>47.0</td>\n",
       "    </tr>\n",
       "    <tr>\n",
       "      <th>68587</th>\n",
       "      <td>garden grove, california, usa</td>\n",
       "      <td>277157</td>\n",
       "      <td>70.0000</td>\n",
       "      <td>0375727981</td>\n",
       "      <td>5</td>\n",
       "      <td>Saving Faith</td>\n",
       "      <td>DAVID BALDACCI</td>\n",
       "      <td>2000.0</td>\n",
       "      <td>Random House Large Print</td>\n",
       "      <td>http://images.amazon.com/images/P/0375727981.0...</td>\n",
       "      <td>When lobbyist Faith Lockhart stumbles upon a c...</td>\n",
       "      <td>['Fiction']</td>\n",
       "      <td>66.0</td>\n",
       "      <td>18.0</td>\n",
       "    </tr>\n",
       "  </tbody>\n",
       "</table>\n",
       "<p>68588 rows × 14 columns</p>\n",
       "</div>"
      ],
      "text/plain": [
       "                              location  user_id      age        isbn  rating  \\\n",
       "0                        n/a, n/a, n/a    11676  34.7439  0399135782       9   \n",
       "1            knoxville, tennessee, usa    29526  26.0000  0399135782       9   \n",
       "2              san antonio, texas, usa    46398  37.0000  0399135782       9   \n",
       "3                   homer, alaska, usa   148712  34.7439  0399135782      10   \n",
       "4      colorado springs, colorado, usa   230522  52.0000  0399135782       7   \n",
       "...                                ...      ...      ...         ...     ...   \n",
       "68583         toronto, ontario, canada   270713  27.0000  0312095376       9   \n",
       "68584        west bend, wisconsin, usa   270820  52.0000  0606298347       7   \n",
       "68585      gahanna/columbus, ohio, usa   274061  26.0000  1551663147      10   \n",
       "68586    pittsburgh, pennsylvania, usa   275970  46.0000  1586210661       9   \n",
       "68587    garden grove, california, usa   277157  70.0000  0375727981       5   \n",
       "\n",
       "                   book_title       book_author  year_of_publication  \\\n",
       "0      The Kitchen God's Wife           Amy Tan               1991.0   \n",
       "1      The Kitchen God's Wife           Amy Tan               1991.0   \n",
       "2      The Kitchen God's Wife           Amy Tan               1991.0   \n",
       "3      The Kitchen God's Wife           Amy Tan               1991.0   \n",
       "4      The Kitchen God's Wife           Amy Tan               1991.0   \n",
       "...                       ...               ...                  ...   \n",
       "68583               The Bride      Bapsi Sidhwa               1983.0   \n",
       "68584              The Vision    Dean R. Koontz               1986.0   \n",
       "68585                   Fever  Elizabeth Lowell               1997.0   \n",
       "68586  Me Talk Pretty One Day     David Sedaris               2001.0   \n",
       "68587            Saving Faith    DAVID BALDACCI               2000.0   \n",
       "\n",
       "                                         publisher  \\\n",
       "0                                 Putnam Pub Group   \n",
       "1                                 Putnam Pub Group   \n",
       "2                                 Putnam Pub Group   \n",
       "3                                 Putnam Pub Group   \n",
       "4                                 Putnam Pub Group   \n",
       "...                                            ...   \n",
       "68583                                St Martins Pr   \n",
       "68584  Turtleback Books Distributed by Demco Media   \n",
       "68585                                         Mira   \n",
       "68586                      Time Warner Audio Major   \n",
       "68587                     Random House Large Print   \n",
       "\n",
       "                                                   img_m  \\\n",
       "0      http://images.amazon.com/images/P/0399135782.0...   \n",
       "1      http://images.amazon.com/images/P/0399135782.0...   \n",
       "2      http://images.amazon.com/images/P/0399135782.0...   \n",
       "3      http://images.amazon.com/images/P/0399135782.0...   \n",
       "4      http://images.amazon.com/images/P/0399135782.0...   \n",
       "...                                                  ...   \n",
       "68583  http://images.amazon.com/images/P/0312095376.0...   \n",
       "68584  http://images.amazon.com/images/P/0606298347.0...   \n",
       "68585  http://images.amazon.com/images/P/1551663147.0...   \n",
       "68586  http://images.amazon.com/images/P/1586210661.0...   \n",
       "68587  http://images.amazon.com/images/P/0375727981.0...   \n",
       "\n",
       "                                                 Summary     Category  \\\n",
       "0      A Chinese immigrant who is convinced she is dy...  ['Fiction']   \n",
       "1      A Chinese immigrant who is convinced she is dy...  ['Fiction']   \n",
       "2      A Chinese immigrant who is convinced she is dy...  ['Fiction']   \n",
       "3      A Chinese immigrant who is convinced she is dy...  ['Fiction']   \n",
       "4      A Chinese immigrant who is convinced she is dy...  ['Fiction']   \n",
       "...                                                  ...          ...   \n",
       "68583                                                  9            9   \n",
       "68584  Mary Bergen&#39;s remarkable clairvoyant talen...            9   \n",
       "68585  This unforgettable sequel to Like Boogie on Tu...     ['Utah']   \n",
       "68586                                                  9            9   \n",
       "68587  When lobbyist Faith Lockhart stumbles upon a c...  ['Fiction']   \n",
       "\n",
       "       num of ratings  num of ratings user  \n",
       "0               116.0               2191.0  \n",
       "1               116.0                 62.0  \n",
       "2               116.0                132.0  \n",
       "3               116.0                 19.0  \n",
       "4               116.0                102.0  \n",
       "...               ...                  ...  \n",
       "68583            18.0                 85.0  \n",
       "68584            23.0                 49.0  \n",
       "68585            25.0                103.0  \n",
       "68586           218.0                 47.0  \n",
       "68587            66.0                 18.0  \n",
       "\n",
       "[68588 rows x 14 columns]"
      ]
     },
     "execution_count": 448,
=======
       "    </tr>\n",
       "    <tr>\n",
       "      <th>79578</th>\n",
       "      <td>9998</td>\n",
       "      <td>51295</td>\n",
       "      <td>5</td>\n",
       "      <td>The Woman in the Dunes</td>\n",
       "      <td>1962.0</td>\n",
       "      <td>Kōbō Abe, E. Dale Saunders</td>\n",
       "    </tr>\n",
       "    <tr>\n",
       "      <th>79579</th>\n",
       "      <td>9998</td>\n",
       "      <td>51559</td>\n",
       "      <td>5</td>\n",
       "      <td>The Woman in the Dunes</td>\n",
       "      <td>1962.0</td>\n",
       "      <td>Kōbō Abe, E. Dale Saunders</td>\n",
       "    </tr>\n",
       "    <tr>\n",
       "      <th>79580</th>\n",
       "      <td>9998</td>\n",
       "      <td>52087</td>\n",
       "      <td>4</td>\n",
       "      <td>The Woman in the Dunes</td>\n",
       "      <td>1962.0</td>\n",
       "      <td>Kōbō Abe, E. Dale Saunders</td>\n",
       "    </tr>\n",
       "    <tr>\n",
       "      <th>79581</th>\n",
       "      <td>9998</td>\n",
       "      <td>52330</td>\n",
       "      <td>4</td>\n",
       "      <td>The Woman in the Dunes</td>\n",
       "      <td>1962.0</td>\n",
       "      <td>Kōbō Abe, E. Dale Saunders</td>\n",
       "    </tr>\n",
       "    <tr>\n",
       "      <th>79582</th>\n",
       "      <td>9998</td>\n",
       "      <td>53249</td>\n",
       "      <td>5</td>\n",
       "      <td>The Woman in the Dunes</td>\n",
       "      <td>1962.0</td>\n",
       "      <td>Kōbō Abe, E. Dale Saunders</td>\n",
       "    </tr>\n",
       "  </tbody>\n",
       "</table>\n",
       "<p>79583 rows × 6 columns</p>\n",
       "</div>"
      ],
      "text/plain": [
       "       book_id  user_id  rating  \\\n",
       "0            1      314       5   \n",
       "1            1      439       3   \n",
       "2            1      588       5   \n",
       "3            1     1169       4   \n",
       "4            1     1185       4   \n",
       "...        ...      ...     ...   \n",
       "79578     9998    51295       5   \n",
       "79579     9998    51559       5   \n",
       "79580     9998    52087       4   \n",
       "79581     9998    52330       4   \n",
       "79582     9998    53249       5   \n",
       "\n",
       "                                                   title  \\\n",
       "0      Harry Potter and the Half-Blood Prince (Harry ...   \n",
       "1      Harry Potter and the Half-Blood Prince (Harry ...   \n",
       "2      Harry Potter and the Half-Blood Prince (Harry ...   \n",
       "3      Harry Potter and the Half-Blood Prince (Harry ...   \n",
       "4      Harry Potter and the Half-Blood Prince (Harry ...   \n",
       "...                                                  ...   \n",
       "79578                             The Woman in the Dunes   \n",
       "79579                             The Woman in the Dunes   \n",
       "79580                             The Woman in the Dunes   \n",
       "79581                             The Woman in the Dunes   \n",
       "79582                             The Woman in the Dunes   \n",
       "\n",
       "       original_publication_year                      authors  \n",
       "0                         2005.0  J.K. Rowling, Mary GrandPré  \n",
       "1                         2005.0  J.K. Rowling, Mary GrandPré  \n",
       "2                         2005.0  J.K. Rowling, Mary GrandPré  \n",
       "3                         2005.0  J.K. Rowling, Mary GrandPré  \n",
       "4                         2005.0  J.K. Rowling, Mary GrandPré  \n",
       "...                          ...                          ...  \n",
       "79578                     1962.0   Kōbō Abe, E. Dale Saunders  \n",
       "79579                     1962.0   Kōbō Abe, E. Dale Saunders  \n",
       "79580                     1962.0   Kōbō Abe, E. Dale Saunders  \n",
       "79581                     1962.0   Kōbō Abe, E. Dale Saunders  \n",
       "79582                     1962.0   Kōbō Abe, E. Dale Saunders  \n",
       "\n",
       "[79583 rows x 6 columns]"
      ]
     },
     "execution_count": 301,
>>>>>>> main
     "metadata": {},
     "output_type": "execute_result"
    }
   ],
   "source": [
<<<<<<< HEAD
    "dff"
=======
    "pd.read_csv('ratings_with_features.csv')"
>>>>>>> main
   ]
  },
  {
   "cell_type": "code",
   "execution_count": null,
<<<<<<< HEAD
   "id": "ebe52e64",
=======
   "id": "b9466fcc",
>>>>>>> main
   "metadata": {},
   "outputs": [],
   "source": []
  }
 ],
 "metadata": {
  "kernelspec": {
   "display_name": "Python 3 (ipykernel)",
   "language": "python",
   "name": "python3"
  },
  "language_info": {
   "codemirror_mode": {
    "name": "ipython",
    "version": 3
   },
   "file_extension": ".py",
   "mimetype": "text/x-python",
   "name": "python",
   "nbconvert_exporter": "python",
   "pygments_lexer": "ipython3",
   "version": "3.9.7"
  }
 },
 "nbformat": 4,
 "nbformat_minor": 5
}
